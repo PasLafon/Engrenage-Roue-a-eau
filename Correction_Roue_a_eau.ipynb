{
 "cells": [
  {
   "cell_type": "markdown",
   "metadata": {},
   "source": [
    "# Conception d'un moulin à eau\n",
    "## Correction"
   ]
  },
  {
   "cell_type": "markdown",
   "metadata": {},
   "source": [
    "<img src=\"moulin.png\" width=\"500\" style=\"float:center\">\n",
    "\n",
    "**Cahier des charges et contraintes technologiques**\n",
    "\n",
    "\n",
    "\n",
    "Caractéristiques \n",
    "* Vitesse nominale de rotation de la roue à aubes : $N_{1}=30$ tr/mn\n",
    "* Vitesse nominale de rotation de l'arbre intermédiare : $N_{2}=180$ tr/mn\n",
    "* Couple nominale mesuré sur l'axe de la roue à aube : $C_1=3200$ Nm \n",
    "* Masse de l'arbre d'entrée: $M=1000$ Kg \n",
    "* Rendement du réducteur : $r=0.98$\n",
    "* Encombrement de l'arbre d'entrée: $d_1mini=50$ mm et $d_1maxi=110$ mm\n",
    "* Encombrement de l'arbre intermédiaire: $d_2mini=15$ mm et $d_2maxi=50$ mm\n",
    "* $h=200$ mm, $c=3000$ mm et $e=3600$ mm \n",
    "* Centre de gravité de l'arbre d'entrée en G,  $\\vec{AG}=0.5e\\vec{x}$ \n",
    "* Diamètre de la roue à aube mesuré au centre d'une aube : $D_e=4$ m \n",
    "\n",
    "Données sur les engrenages"
   ]
  },
  {
   "cell_type": "markdown",
   "metadata": {},
   "source": [
    "<img src=\"donnee_engrenageM.png\" width=\"700\" style=\"float:center\">"
   ]
  },
  {
   "cell_type": "markdown",
   "metadata": {},
   "source": [
    "### 1.1 Train calcul du train d'engrenage\n",
    "\n",
    "**Question 1):**\n",
    "\n",
    "Calculez l'angle de pression de fonctionnement, $\\alpha_1$, et le module de fonctionnement, $m_1$ du train d'engrenage"
   ]
  },
  {
   "cell_type": "markdown",
   "metadata": {},
   "source": [
    "<img src=\"entraxe_deport1.png\" width=\"300\" style=\"float:left\">\n",
    "<img src=\"entraxe_deport2.png\" width=\"300\" style=\"float:left\">"
   ]
  },
  {
   "cell_type": "markdown",
   "metadata": {},
   "source": [
    "L'entraxe de fonctionnement $a$ s'écrit avec l'angle de pression en fonctionnement $\\alpha$ :\n",
    "$$a = \\frac{r_{b1}}{\\cos\\alpha} + \\frac{r_{b2}}{\\cos\\alpha}$$\n",
    "L'entraxe de taillage $a_0$ s'écrit avec l'angle de pression de taillage $\\alpha_0$ :\n",
    "$$a_0 = \\frac{r_{b1}}{\\cos\\alpha_0} + \\frac{r_{b2}}{\\cos\\alpha_0}$$"
   ]
  },
  {
   "cell_type": "markdown",
   "metadata": {},
   "source": [
    "$\\DeclareMathOperator{\\inv}{inv}$\n",
    "<div class=\"alert alert-info\">     \n",
    "Engrenement sans jeux :\n",
    "    $$\\inv(\\alpha)-\\inv(\\alpha_0)=2\\tan\\alpha_0\\dfrac{x_1+x_2}{Z_1+Z_2}$$\n",
    "\n",
    "Avec:\n",
    "    $$\\inv(x)=\\tan(x)-x\\text{ et $x$ en radians}$$    \n",
    "Relation entre le module de taillage $m_0$ et de fonctionnement $m_1$ :\n",
    "    $$m\\cos\\alpha=m_0\\cos\\alpha_0$$   \n",
    "</div>"
   ]
  },
  {
   "cell_type": "markdown",
   "metadata": {},
   "source": [
    "<div class=\"alert alert-info\" >   \n",
    "Formule des rayons primitifs $r_1$ et $r_2$ respectif des roues E1 et E2\n",
    "    $$r_i=\\dfrac{m}{2}Z_i$$    \n",
    "    \n",
    "Formule de l'entraxe  :\n",
    "    $$a=r_1+r_2=\\dfrac{m}{2}\\left(Z_{1}+Z_{2}\\right)$$\n",
    "    donc $$Z_{1}+Z_{2}=\\dfrac{2a}{m}$$\n",
    "    \n",
    "La somme des dentures peut alors s'exprimer sous la forme :    \n",
    "    $$Z_{1}+Z_{2}=\\dfrac{2a\\cos\\alpha}{m_{0}\\cos\\alpha_0}$$ \n",
    "    \n",
    "Angle de pression de fonctionnement  $\\alpha$ s'obtient par la résolution de la fonction non linéaire suivante:\n",
    "    $$\\inv(\\alpha) - \\inv(\\alpha_0) - 2\\tan\\alpha_0\\dfrac{(x_1+x_2)m_{0}\\cos\\alpha_0}{2a\\cos\\alpha}=0$$  \n",
    "    \n",
    "Dans le cas de cet exercice la somme des déports est nulle donc la résolution devient plus simple:\n",
    "   $$x_1+x_2=0$$  \n",
    "   $$\\inv(\\alpha) = \\inv(\\alpha_0)$$  \n",
    "\n",
    "Donc\n",
    "  $$\\alpha = \\alpha_0$$  et $$m=m_0$$\n",
    "    \n",
    "</div>"
   ]
  },
  {
   "cell_type": "code",
   "execution_count": 16,
   "metadata": {},
   "outputs": [
    {
     "name": "stdout",
     "output_type": "stream",
     "text": [
      "alpha : 20.0 °\n",
      "m : 16.0 mm\n"
     ]
    }
   ],
   "source": [
    "import numpy as np\n",
    "alpha0=20\n",
    "alpha = alpha0\n",
    "m0=16\n",
    "m=m0\n",
    "\n",
    "print('alpha : %.1f °'%alpha)\n",
    "print('m : %.1f mm'%m)"
   ]
  },
  {
   "cell_type": "markdown",
   "metadata": {},
   "source": [
    "**Question 2):**\n",
    "\n",
    "Calculez les rayons primitifs de fonctionnement et le nombre de dents des deux roues d'engrenage $E_1$ et $E_2$."
   ]
  },
  {
   "cell_type": "markdown",
   "metadata": {},
   "source": [
    "<div class=\"alert alert-info\" >   \n",
    "Rappel sur le rapport de réduction :\n",
    "    \n",
    "Roulement sans glissement au point de contact $I$ sur les rayons primitifs : $\\omega_1 r_1 = \\omega_2 r_2$.\n",
    "    \n",
    "Donc :    \n",
    "    $$i=\\dfrac{\\omega_2}{\\omega_1}=\\dfrac{N_2}{N_1}=\\dfrac{Z_1}{Z_2}=\\dfrac{r_1}{r_2}$$        \n",
    "</div>"
   ]
  },
  {
   "cell_type": "markdown",
   "metadata": {},
   "source": [
    "Les rayons primitifs s'obtient à partir de l'entraxe $a$ et du rapport de réduction $i$:\n",
    "\n",
    "\n",
    "$$r_1 + r_2 = a=a_0 $$\n",
    "\n",
    "\n",
    "$$r_1=\\dfrac{ai}{1+i}\\quad r_2=\\dfrac{a}{1+i}$$"
   ]
  },
  {
   "cell_type": "code",
   "execution_count": 17,
   "metadata": {},
   "outputs": [
    {
     "name": "stdout",
     "output_type": "stream",
     "text": [
      "rapport de réduction i=6.00\n",
      "r1= 960.00 mm et r2= 160.00 mm\n"
     ]
    }
   ],
   "source": [
    "a  = 1120\n",
    "N1 = 30\n",
    "N2 = 180\n",
    "i = N2/N1\n",
    "r1 =a*i/(1+i)\n",
    "r2 =a/(1+i)\n",
    "print('rapport de réduction i=%.2f'%i)\n",
    "print('r1= %.2f mm et r2= %.2f mm'%(r1,r2))"
   ]
  },
  {
   "cell_type": "markdown",
   "metadata": {},
   "source": [
    "Le nombre de dents de la roue $E_i$ (attention il est parfois necessaire de respecter la partie entière)\n",
    "$$ Z_i=\\frac{2r_i}{m}$$"
   ]
  },
  {
   "cell_type": "code",
   "execution_count": 18,
   "metadata": {},
   "outputs": [
    {
     "name": "stdout",
     "output_type": "stream",
     "text": [
      "Z1= 120   Z2=20\n"
     ]
    }
   ],
   "source": [
    "Z1=2*r1/m\n",
    "Z2=2*r2/m\n",
    "\n",
    "print('Z1= %d   Z2=%d'%(Z1,Z2))"
   ]
  },
  {
   "cell_type": "markdown",
   "metadata": {},
   "source": [
    "**Question 3):**\n",
    "\n",
    "Estimez la valeur de la contrainte au pied de dent pour $E_1$:"
   ]
  },
  {
   "cell_type": "markdown",
   "metadata": {},
   "source": [
    "<div class=\"alert alert-info\" > \n",
    "Contrainte en pieds de dent (formule approchée) :\n",
    "    $$\\sigma_{max}=\\frac{5.5T_{max}}{b m}$$\n",
    "</div>    "
   ]
  },
  {
   "cell_type": "markdown",
   "metadata": {},
   "source": [
    "L'effort tangentiel maximum $T_{max}$ s'obtient à partir du couple (moteur) sur la roue à aubes $C_1$\n",
    "$$ T_{max}=\\frac{C_1}{r_1}$$"
   ]
  },
  {
   "cell_type": "code",
   "execution_count": 19,
   "metadata": {},
   "outputs": [
    {
     "name": "stdout",
     "output_type": "stream",
     "text": [
      "Tmax= 3333.33 N\n",
      "sigFlmax= 5.73 MPa\n"
     ]
    }
   ],
   "source": [
    "b  = 200.   # Largeur en mm\n",
    "C1 = 3200.  # Couple en N.m\n",
    "Tmax = C1*1e3/r1  # Effort tangentiel en N\n",
    "sigFlmax = 5.5*Tmax/(b*m)\n",
    "print('Tmax= %.2f N'%Tmax)\n",
    "print('sigFlmax= %.2f MPa'%sigFlmax)"
   ]
  },
  {
   "cell_type": "markdown",
   "metadata": {},
   "source": [
    "**Question 4):**\n",
    "\n",
    "estimez la valeur de la contrainte au pied de dent pour $E_1$ à l'aide de la méthode approchée"
   ]
  },
  {
   "cell_type": "markdown",
   "metadata": {},
   "source": [
    "<div class=\"alert alert-info\" > \n",
    "Pression maxi de Hertz : $$\\mathcal{P}_{Hmax}=\\sqrt{\\frac{T_{max}}{b\\cos\\alpha}\\frac{r_1+r_2}{r_1r_2\\sin\\alpha}\\frac{E^*}{\\pi}}\\quad E^*=\\frac{E}{2(1-\\nu^2)}$$\n",
    "</div>"
   ]
  },
  {
   "cell_type": "code",
   "execution_count": 20,
   "metadata": {},
   "outputs": [
    {
     "name": "stdout",
     "output_type": "stream",
     "text": [
      "PHmax=117.85 MPa\n"
     ]
    }
   ],
   "source": [
    "E=210000\n",
    "mu=0.3\n",
    "Eet=E/(2*(1-mu*mu))\n",
    "PHmax = np.sqrt(Tmax*(r1+r2)*Eet/(b*np.cos(alpha*np.pi/180)*r1*r2*np.sin(alpha*np.pi/180)*np.pi))\n",
    "print('PHmax=%.2f MPa'%PHmax)"
   ]
  },
  {
   "cell_type": "markdown",
   "metadata": {},
   "source": [
    "**Question 5):**\n",
    "\n",
    "Choisissez un matériau compatible avec les valeurs trouvées au deux questions précédentes."
   ]
  },
  {
   "cell_type": "markdown",
   "metadata": {},
   "source": [
    "<div class=\"alert alert-success\" > \n",
    "Avec des dentures en AF42 $\\sigma_{Flim}=125$MPa > 5.73 MPa  et $\\sigma_{Hlim}=315$MPa > 118 MPa -> OK !!\n",
    "</div>"
   ]
  },
  {
   "cell_type": "markdown",
   "metadata": {},
   "source": [
    "**Question 6):**\n",
    "\n",
    "Estimez numériquement l'équilibrage à l'usure des roues $E_1$ et $E_2$. Proposez une solution\n",
    "si l'équilibrage n'est pas satisfaisant."
   ]
  },
  {
   "cell_type": "markdown",
   "metadata": {},
   "source": [
    "<div class=\"alert alert-info\" > \n",
    "Rappel de cours :\n",
    "</div>"
   ]
  },
  {
   "cell_type": "markdown",
   "metadata": {},
   "source": [
    "<img src=\"conduite_engrenement.png\" width=\"600\" style=\"float:center\">"
   ]
  },
  {
   "cell_type": "markdown",
   "metadata": {},
   "source": [
    "<div class=\"alert alert-info\"> \n",
    "Le rapport de conduite est la grandeur sans dimension :\n",
    "$$C=\\varepsilon_\\alpha=\\dfrac{AI}{p_b} + \\dfrac{IB}{p_b}$$\n",
    "<br>\n",
    "Avec :\n",
    "    <li>$AI=\\sqrt{(r_1+h_{a1})^2-(r_1\\cos\\alpha)^2}-r_1\\sin\\alpha$ : Longueur d'appproche dans le mvt d'engrènement.</li><br>\n",
    "    <li>$IB=\\sqrt{(r_2+h_{a2})^2-(r_2\\cos\\alpha)^2}-r_2\\sin\\alpha$  : Longueur de retrait dans le mvt. d'engrènement.</li><br>\n",
    "    <li>$p_b = \\pi m\\cos\\alpha$ : Pas de base, i.e distance entre 2 flancs consécutifs de la denture prise sur le diamètre de base.</li><br>\n",
    "<br>\n",
    "Le rapport de conduite indique le nombre de dents simultanément en contact lors de l'engrènemenet, il ne doit jamais être inférieur à 1. En pratique on essaie d'avoir $\\varepsilon_\\alpha \\geq \\simeq 1.3$.\n",
    "</div>"
   ]
  },
  {
   "cell_type": "markdown",
   "metadata": {},
   "source": [
    "<div class=\"alert alert-info\">\n",
    "Au cours de l'engrènement il y a entre la dent menante et la menée :\n",
    "<li>Roulement et glissement sur les longueurs d'approche et de retrait, ce glissement est maximal en $A$ et en $B$.</li>\n",
    "<li>Roulement sans glissement au point de contact $I$.</li>\n",
    "<br>\n",
    "L'usure est fonction de la vitesse de glissement et de la pression de contact, pour les engrenanges elle est inévitable, en pratique on cherche à la limiter et à équilibrer les usures de la roue et pignon, c'est à dire à égaliser les glissements spécifiques maximuns de la roue et du pignon.\n",
    "<br>\n",
    "<br>\n",
    "On compare :\n",
    " <li>Pour roue : $\\dfrac{AI}{r_2\\sin\\alpha}$.</li>\n",
    " <li>Pour le pignon : $\\dfrac{IB}{r_1\\sin\\alpha}$.</li>\n",
    "</div>"
   ]
  },
  {
   "cell_type": "code",
   "execution_count": 41,
   "metadata": {},
   "outputs": [
    {
     "name": "stdout",
     "output_type": "stream",
     "text": [
      "Gliss. spec. maxi roue(1) :0.6138  roue(2) :0.1348\n",
      "Coef usure   maxi roue(1) :85.33   roue(2) :18.73\n"
     ]
    }
   ],
   "source": [
    "alpha = 20\n",
    "calpha=np.cos(alpha*np.pi/180)\n",
    "salpha=np.sin(alpha*np.pi/180)\n",
    "\n",
    "# Rayons sur le pignon :\n",
    "x1=-0.25\n",
    "r1 =Z1*m/2\n",
    "rb1 = r1*calpha\n",
    "ha1 = m*(1+x1)\n",
    "# Rayons sur la roue :\n",
    "x2 = 0.25\n",
    "r2 =Z2*m/2\n",
    "rb2 = r2*calpha\n",
    "ha2 = m*(1+x2)\n",
    "# Pas de base :\n",
    "pb = np.pi*m*calpha\n",
    "# Longueur d'approche et de retrait :\n",
    "IH1 = r1*salpha\n",
    "IH2 = r2*salpha\n",
    "AI = np.sqrt((r1+ha1)**2 -rb1**2)-IH1\n",
    "IB = np.sqrt((r2+ha2)**2 -rb2**2)-IH2\n",
    "# Calcul des glissements :\n",
    "Gs1 = AI/IH2\n",
    "Gs2 = IB/IH1\n",
    "print('Gliss. spec. maxi roue(1) :%.4g  roue(2) :%.4g'%(Gs1,Gs2))\n",
    "# Coefficient d'usure :\n",
    "us1 = AI/pb*Z1\n",
    "us2 = IB/pb*Z2\n",
    "print('Coef usure   maxi roue(1) :%.4g   roue(2) :%.4g'%(us1,us2))"
   ]
  },
  {
   "cell_type": "markdown",
   "metadata": {},
   "source": [
    "<div class=\"alert alert-danger\" >\n",
    "   Les roues d'engrenage ne sont pas équilibré à l'usure !!\n",
    "</div>\n"
   ]
  },
  {
   "cell_type": "markdown",
   "metadata": {},
   "source": [
    "<div class=\"alert alert-success\" > \n",
    "Une solution serait de jouer sur les déports de denture mais en conservant\n",
    "       $$x_1+x_2=0$$\n",
    "</div>"
   ]
  },
  {
   "cell_type": "code",
   "execution_count": 54,
   "metadata": {},
   "outputs": [
    {
     "name": "stdout",
     "output_type": "stream",
     "text": [
      "Rapport de conduite : 1.475\n",
      "Gliss. spec. maxi roue(1) :0.2105  roue(2) :0.1771\n",
      "Coef usure   maxi roue(1) :29.26   roue(2) :24.62\n"
     ]
    }
   ],
   "source": [
    "# Rayons sur le pignon :\n",
    "x1=-0.75\n",
    "r1 =Z1*m/2\n",
    "rb1 = r1*calpha\n",
    "ha1 = m*(1+x1)\n",
    "# Rayons sur la roue :\n",
    "x2 = -x1\n",
    "r2 =Z2*m/2\n",
    "rb2 = r2*calpha\n",
    "ha2 = m*(1+x2)\n",
    "# Pas de base :\n",
    "pb = np.pi*m*calpha\n",
    "# Longueur d'approche et de retrait :\n",
    "IH1 = r1*salpha\n",
    "IH2 = r2*salpha\n",
    "AI = np.sqrt((r1+ha1)**2 -rb1**2)-IH1\n",
    "IB = np.sqrt((r2+ha2)**2 -rb2**2)-IH2\n",
    "# Rapport de conduite :\n",
    "C = (AI+IB)/pb\n",
    "print('Rapport de conduite : %.3f'%C)\n",
    "# Calcul des glissements :\n",
    "Gs1 = AI/IH2\n",
    "Gs2 = IB/IH1\n",
    "print('Gliss. spec. maxi roue(1) :%.4g  roue(2) :%.4g'%(Gs1,Gs2))\n",
    "# Coefficient d'usure :\n",
    "us1 = AI/pb*Z1\n",
    "us2 = IB/pb*Z2\n",
    "print('Coef usure   maxi roue(1) :%.4g   roue(2) :%.4g'%(us1,us2))     "
   ]
  },
  {
   "cell_type": "code",
   "execution_count": null,
   "metadata": {},
   "outputs": [],
   "source": []
  }
 ],
 "metadata": {
  "kernelspec": {
   "display_name": "Python 3",
   "language": "python",
   "name": "python3"
  },
  "language_info": {
   "codemirror_mode": {
    "name": "ipython",
    "version": 3
   },
   "file_extension": ".py",
   "mimetype": "text/x-python",
   "name": "python",
   "nbconvert_exporter": "python",
   "pygments_lexer": "ipython3",
   "version": "3.8.5"
  }
 },
 "nbformat": 4,
 "nbformat_minor": 4
}
